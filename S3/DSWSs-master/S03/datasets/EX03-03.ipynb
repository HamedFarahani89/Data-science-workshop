{
 "cells": [
  {
   "cell_type": "code",
   "execution_count": 1,
   "metadata": {},
   "outputs": [],
   "source": [
    "%matplotlib inline\n",
    "\n",
    "import numpy as np\n",
    "import pylab as plt\n",
    "import pandas as pd"
   ]
  },
  {
   "cell_type": "code",
   "execution_count": 3,
   "metadata": {},
   "outputs": [],
   "source": [
    "#Open data\n",
    "su = pd.read_csv('su5m.csv')"
   ]
  },
  {
   "cell_type": "code",
   "execution_count": 5,
   "metadata": {},
   "outputs": [
    {
     "data": {
      "text/html": [
       "<div>\n",
       "<style scoped>\n",
       "    .dataframe tbody tr th:only-of-type {\n",
       "        vertical-align: middle;\n",
       "    }\n",
       "\n",
       "    .dataframe tbody tr th {\n",
       "        vertical-align: top;\n",
       "    }\n",
       "\n",
       "    .dataframe thead th {\n",
       "        text-align: right;\n",
       "    }\n",
       "</style>\n",
       "<table border=\"1\" class=\"dataframe\">\n",
       "  <thead>\n",
       "    <tr style=\"text-align: right;\">\n",
       "      <th></th>\n",
       "      <th>Unnamed: 0</th>\n",
       "      <th>ccode</th>\n",
       "      <th>country</th>\n",
       "      <th>m1990</th>\n",
       "      <th>m2000</th>\n",
       "      <th>m2010</th>\n",
       "      <th>m2015</th>\n",
       "      <th>m2017</th>\n",
       "      <th>f1990</th>\n",
       "      <th>f2000</th>\n",
       "      <th>f2010</th>\n",
       "      <th>f2015</th>\n",
       "      <th>f2017</th>\n",
       "    </tr>\n",
       "  </thead>\n",
       "  <tbody>\n",
       "    <tr>\n",
       "      <th>0</th>\n",
       "      <td>0</td>\n",
       "      <td>AFG</td>\n",
       "      <td>Afghanistan</td>\n",
       "      <td>180.1</td>\n",
       "      <td>133.5</td>\n",
       "      <td>94.2</td>\n",
       "      <td>77.2</td>\n",
       "      <td>71.8</td>\n",
       "      <td>169.7</td>\n",
       "      <td>123.8</td>\n",
       "      <td>85.5</td>\n",
       "      <td>68.8</td>\n",
       "      <td>63.7</td>\n",
       "    </tr>\n",
       "    <tr>\n",
       "      <th>1</th>\n",
       "      <td>1</td>\n",
       "      <td>ALB</td>\n",
       "      <td>Albania</td>\n",
       "      <td>43.7</td>\n",
       "      <td>26.7</td>\n",
       "      <td>13.0</td>\n",
       "      <td>10.1</td>\n",
       "      <td>9.5</td>\n",
       "      <td>36.4</td>\n",
       "      <td>22.2</td>\n",
       "      <td>11.0</td>\n",
       "      <td>8.6</td>\n",
       "      <td>8.1</td>\n",
       "    </tr>\n",
       "    <tr>\n",
       "      <th>2</th>\n",
       "      <td>2</td>\n",
       "      <td>DZA</td>\n",
       "      <td>Algeria</td>\n",
       "      <td>53.7</td>\n",
       "      <td>42.5</td>\n",
       "      <td>28.9</td>\n",
       "      <td>26.4</td>\n",
       "      <td>25.5</td>\n",
       "      <td>45.3</td>\n",
       "      <td>36.7</td>\n",
       "      <td>25.8</td>\n",
       "      <td>23.5</td>\n",
       "      <td>22.5</td>\n",
       "    </tr>\n",
       "    <tr>\n",
       "      <th>3</th>\n",
       "      <td>3</td>\n",
       "      <td>AND</td>\n",
       "      <td>Andorra</td>\n",
       "      <td>9.4</td>\n",
       "      <td>5.4</td>\n",
       "      <td>4.3</td>\n",
       "      <td>3.9</td>\n",
       "      <td>3.6</td>\n",
       "      <td>7.6</td>\n",
       "      <td>4.5</td>\n",
       "      <td>3.6</td>\n",
       "      <td>3.2</td>\n",
       "      <td>3.0</td>\n",
       "    </tr>\n",
       "    <tr>\n",
       "      <th>4</th>\n",
       "      <td>4</td>\n",
       "      <td>AGO</td>\n",
       "      <td>Angola</td>\n",
       "      <td>235.0</td>\n",
       "      <td>217.5</td>\n",
       "      <td>129.2</td>\n",
       "      <td>95.1</td>\n",
       "      <td>86.9</td>\n",
       "      <td>211.6</td>\n",
       "      <td>194.5</td>\n",
       "      <td>113.1</td>\n",
       "      <td>82.4</td>\n",
       "      <td>74.9</td>\n",
       "    </tr>\n",
       "  </tbody>\n",
       "</table>\n",
       "</div>"
      ],
      "text/plain": [
       "   Unnamed: 0 ccode      country  m1990  m2000  m2010  m2015  m2017  f1990  \\\n",
       "0           0   AFG  Afghanistan  180.1  133.5   94.2   77.2   71.8  169.7   \n",
       "1           1   ALB      Albania   43.7   26.7   13.0   10.1    9.5   36.4   \n",
       "2           2   DZA      Algeria   53.7   42.5   28.9   26.4   25.5   45.3   \n",
       "3           3   AND      Andorra    9.4    5.4    4.3    3.9    3.6    7.6   \n",
       "4           4   AGO       Angola  235.0  217.5  129.2   95.1   86.9  211.6   \n",
       "\n",
       "   f2000  f2010  f2015  f2017  \n",
       "0  123.8   85.5   68.8   63.7  \n",
       "1   22.2   11.0    8.6    8.1  \n",
       "2   36.7   25.8   23.5   22.5  \n",
       "3    4.5    3.6    3.2    3.0  \n",
       "4  194.5  113.1   82.4   74.9  "
      ]
     },
     "execution_count": 5,
     "metadata": {},
     "output_type": "execute_result"
    }
   ],
   "source": [
    "su.head()"
   ]
  },
  {
   "cell_type": "code",
   "execution_count": 9,
   "metadata": {},
   "outputs": [],
   "source": [
    "su['f2017/m2017'] = su['f2017']/su['m2017']"
   ]
  },
  {
   "cell_type": "code",
   "execution_count": 10,
   "metadata": {},
   "outputs": [
    {
     "data": {
      "text/html": [
       "<div>\n",
       "<style scoped>\n",
       "    .dataframe tbody tr th:only-of-type {\n",
       "        vertical-align: middle;\n",
       "    }\n",
       "\n",
       "    .dataframe tbody tr th {\n",
       "        vertical-align: top;\n",
       "    }\n",
       "\n",
       "    .dataframe thead th {\n",
       "        text-align: right;\n",
       "    }\n",
       "</style>\n",
       "<table border=\"1\" class=\"dataframe\">\n",
       "  <thead>\n",
       "    <tr style=\"text-align: right;\">\n",
       "      <th></th>\n",
       "      <th>Unnamed: 0</th>\n",
       "      <th>ccode</th>\n",
       "      <th>country</th>\n",
       "      <th>m1990</th>\n",
       "      <th>m2000</th>\n",
       "      <th>m2010</th>\n",
       "      <th>m2015</th>\n",
       "      <th>m2017</th>\n",
       "      <th>f1990</th>\n",
       "      <th>f2000</th>\n",
       "      <th>f2010</th>\n",
       "      <th>f2015</th>\n",
       "      <th>f2017</th>\n",
       "      <th>avg-f-m</th>\n",
       "      <th>f2017/m2017</th>\n",
       "    </tr>\n",
       "  </thead>\n",
       "  <tbody>\n",
       "    <tr>\n",
       "      <th>0</th>\n",
       "      <td>0</td>\n",
       "      <td>AFG</td>\n",
       "      <td>Afghanistan</td>\n",
       "      <td>180.1</td>\n",
       "      <td>133.5</td>\n",
       "      <td>94.2</td>\n",
       "      <td>77.2</td>\n",
       "      <td>71.8</td>\n",
       "      <td>169.7</td>\n",
       "      <td>123.8</td>\n",
       "      <td>85.5</td>\n",
       "      <td>68.8</td>\n",
       "      <td>63.7</td>\n",
       "      <td>67.75</td>\n",
       "      <td>0.887187</td>\n",
       "    </tr>\n",
       "    <tr>\n",
       "      <th>1</th>\n",
       "      <td>1</td>\n",
       "      <td>ALB</td>\n",
       "      <td>Albania</td>\n",
       "      <td>43.7</td>\n",
       "      <td>26.7</td>\n",
       "      <td>13.0</td>\n",
       "      <td>10.1</td>\n",
       "      <td>9.5</td>\n",
       "      <td>36.4</td>\n",
       "      <td>22.2</td>\n",
       "      <td>11.0</td>\n",
       "      <td>8.6</td>\n",
       "      <td>8.1</td>\n",
       "      <td>8.80</td>\n",
       "      <td>0.852632</td>\n",
       "    </tr>\n",
       "    <tr>\n",
       "      <th>2</th>\n",
       "      <td>2</td>\n",
       "      <td>DZA</td>\n",
       "      <td>Algeria</td>\n",
       "      <td>53.7</td>\n",
       "      <td>42.5</td>\n",
       "      <td>28.9</td>\n",
       "      <td>26.4</td>\n",
       "      <td>25.5</td>\n",
       "      <td>45.3</td>\n",
       "      <td>36.7</td>\n",
       "      <td>25.8</td>\n",
       "      <td>23.5</td>\n",
       "      <td>22.5</td>\n",
       "      <td>24.00</td>\n",
       "      <td>0.882353</td>\n",
       "    </tr>\n",
       "    <tr>\n",
       "      <th>3</th>\n",
       "      <td>3</td>\n",
       "      <td>AND</td>\n",
       "      <td>Andorra</td>\n",
       "      <td>9.4</td>\n",
       "      <td>5.4</td>\n",
       "      <td>4.3</td>\n",
       "      <td>3.9</td>\n",
       "      <td>3.6</td>\n",
       "      <td>7.6</td>\n",
       "      <td>4.5</td>\n",
       "      <td>3.6</td>\n",
       "      <td>3.2</td>\n",
       "      <td>3.0</td>\n",
       "      <td>3.30</td>\n",
       "      <td>0.833333</td>\n",
       "    </tr>\n",
       "    <tr>\n",
       "      <th>4</th>\n",
       "      <td>4</td>\n",
       "      <td>AGO</td>\n",
       "      <td>Angola</td>\n",
       "      <td>235.0</td>\n",
       "      <td>217.5</td>\n",
       "      <td>129.2</td>\n",
       "      <td>95.1</td>\n",
       "      <td>86.9</td>\n",
       "      <td>211.6</td>\n",
       "      <td>194.5</td>\n",
       "      <td>113.1</td>\n",
       "      <td>82.4</td>\n",
       "      <td>74.9</td>\n",
       "      <td>80.90</td>\n",
       "      <td>0.861910</td>\n",
       "    </tr>\n",
       "  </tbody>\n",
       "</table>\n",
       "</div>"
      ],
      "text/plain": [
       "   Unnamed: 0 ccode      country  m1990  m2000  m2010  m2015  m2017  f1990  \\\n",
       "0           0   AFG  Afghanistan  180.1  133.5   94.2   77.2   71.8  169.7   \n",
       "1           1   ALB      Albania   43.7   26.7   13.0   10.1    9.5   36.4   \n",
       "2           2   DZA      Algeria   53.7   42.5   28.9   26.4   25.5   45.3   \n",
       "3           3   AND      Andorra    9.4    5.4    4.3    3.9    3.6    7.6   \n",
       "4           4   AGO       Angola  235.0  217.5  129.2   95.1   86.9  211.6   \n",
       "\n",
       "   f2000  f2010  f2015  f2017  avg-f-m  f2017/m2017  \n",
       "0  123.8   85.5   68.8   63.7    67.75     0.887187  \n",
       "1   22.2   11.0    8.6    8.1     8.80     0.852632  \n",
       "2   36.7   25.8   23.5   22.5    24.00     0.882353  \n",
       "3    4.5    3.6    3.2    3.0     3.30     0.833333  \n",
       "4  194.5  113.1   82.4   74.9    80.90     0.861910  "
      ]
     },
     "execution_count": 10,
     "metadata": {},
     "output_type": "execute_result"
    }
   ],
   "source": [
    "su.head()"
   ]
  },
  {
   "cell_type": "code",
   "execution_count": 11,
   "metadata": {},
   "outputs": [
    {
     "data": {
      "text/plain": [
       "0.8871866295264624"
      ]
     },
     "execution_count": 11,
     "metadata": {},
     "output_type": "execute_result"
    }
   ],
   "source": [
    "#checked first row\n",
    "63.7/71.8"
   ]
  },
  {
   "cell_type": "code",
   "execution_count": 24,
   "metadata": {},
   "outputs": [],
   "source": [
    "suclean=su[['country','f2017/m2017']]"
   ]
  },
  {
   "cell_type": "code",
   "execution_count": 26,
   "metadata": {},
   "outputs": [
    {
     "data": {
      "text/html": [
       "<div>\n",
       "<style scoped>\n",
       "    .dataframe tbody tr th:only-of-type {\n",
       "        vertical-align: middle;\n",
       "    }\n",
       "\n",
       "    .dataframe tbody tr th {\n",
       "        vertical-align: top;\n",
       "    }\n",
       "\n",
       "    .dataframe thead th {\n",
       "        text-align: right;\n",
       "    }\n",
       "</style>\n",
       "<table border=\"1\" class=\"dataframe\">\n",
       "  <thead>\n",
       "    <tr style=\"text-align: right;\">\n",
       "      <th></th>\n",
       "      <th>country</th>\n",
       "      <th>f2017/m2017</th>\n",
       "    </tr>\n",
       "  </thead>\n",
       "  <tbody>\n",
       "    <tr>\n",
       "      <th>0</th>\n",
       "      <td>Afghanistan</td>\n",
       "      <td>0.887187</td>\n",
       "    </tr>\n",
       "    <tr>\n",
       "      <th>1</th>\n",
       "      <td>Albania</td>\n",
       "      <td>0.852632</td>\n",
       "    </tr>\n",
       "    <tr>\n",
       "      <th>2</th>\n",
       "      <td>Algeria</td>\n",
       "      <td>0.882353</td>\n",
       "    </tr>\n",
       "    <tr>\n",
       "      <th>3</th>\n",
       "      <td>Andorra</td>\n",
       "      <td>0.833333</td>\n",
       "    </tr>\n",
       "    <tr>\n",
       "      <th>4</th>\n",
       "      <td>Angola</td>\n",
       "      <td>0.861910</td>\n",
       "    </tr>\n",
       "  </tbody>\n",
       "</table>\n",
       "</div>"
      ],
      "text/plain": [
       "       country  f2017/m2017\n",
       "0  Afghanistan     0.887187\n",
       "1      Albania     0.852632\n",
       "2      Algeria     0.882353\n",
       "3      Andorra     0.833333\n",
       "4       Angola     0.861910"
      ]
     },
     "execution_count": 26,
     "metadata": {},
     "output_type": "execute_result"
    }
   ],
   "source": [
    "suclean.head()"
   ]
  },
  {
   "cell_type": "code",
   "execution_count": 28,
   "metadata": {},
   "outputs": [],
   "source": [
    "suclean2=suclean.set_index('country')"
   ]
  },
  {
   "cell_type": "code",
   "execution_count": 30,
   "metadata": {},
   "outputs": [
    {
     "data": {
      "text/html": [
       "<div>\n",
       "<style scoped>\n",
       "    .dataframe tbody tr th:only-of-type {\n",
       "        vertical-align: middle;\n",
       "    }\n",
       "\n",
       "    .dataframe tbody tr th {\n",
       "        vertical-align: top;\n",
       "    }\n",
       "\n",
       "    .dataframe thead th {\n",
       "        text-align: right;\n",
       "    }\n",
       "</style>\n",
       "<table border=\"1\" class=\"dataframe\">\n",
       "  <thead>\n",
       "    <tr style=\"text-align: right;\">\n",
       "      <th></th>\n",
       "      <th>f2017/m2017</th>\n",
       "    </tr>\n",
       "    <tr>\n",
       "      <th>country</th>\n",
       "      <th></th>\n",
       "    </tr>\n",
       "  </thead>\n",
       "  <tbody>\n",
       "    <tr>\n",
       "      <th>Afghanistan</th>\n",
       "      <td>0.887187</td>\n",
       "    </tr>\n",
       "    <tr>\n",
       "      <th>Albania</th>\n",
       "      <td>0.852632</td>\n",
       "    </tr>\n",
       "    <tr>\n",
       "      <th>Algeria</th>\n",
       "      <td>0.882353</td>\n",
       "    </tr>\n",
       "    <tr>\n",
       "      <th>Andorra</th>\n",
       "      <td>0.833333</td>\n",
       "    </tr>\n",
       "    <tr>\n",
       "      <th>Angola</th>\n",
       "      <td>0.861910</td>\n",
       "    </tr>\n",
       "  </tbody>\n",
       "</table>\n",
       "</div>"
      ],
      "text/plain": [
       "             f2017/m2017\n",
       "country                 \n",
       "Afghanistan     0.887187\n",
       "Albania         0.852632\n",
       "Algeria         0.882353\n",
       "Andorra         0.833333\n",
       "Angola          0.861910"
      ]
     },
     "execution_count": 30,
     "metadata": {},
     "output_type": "execute_result"
    }
   ],
   "source": [
    "suclean2.head()"
   ]
  },
  {
   "cell_type": "code",
   "execution_count": 45,
   "metadata": {},
   "outputs": [
    {
     "data": {
      "text/plain": [
       "f2017/m2017    1.739818\n",
       "dtype: float64"
      ]
     },
     "execution_count": 45,
     "metadata": {},
     "output_type": "execute_result"
    }
   ],
   "source": [
    "x=suclean2.loc['Afghanistan']\n",
    "y=suclean2.loc['Albania']\n",
    "x+y"
   ]
  },
  {
   "cell_type": "code",
   "execution_count": null,
   "metadata": {},
   "outputs": [],
   "source": []
  },
  {
   "cell_type": "code",
   "execution_count": null,
   "metadata": {},
   "outputs": [],
   "source": []
  },
  {
   "cell_type": "code",
   "execution_count": null,
   "metadata": {},
   "outputs": [],
   "source": []
  },
  {
   "cell_type": "code",
   "execution_count": null,
   "metadata": {},
   "outputs": [],
   "source": []
  },
  {
   "cell_type": "code",
   "execution_count": 39,
   "metadata": {},
   "outputs": [
    {
     "name": "stdout",
     "output_type": "stream",
     "text": [
      "name of string : payam\n",
      "name of string : salam\n",
      "name of string : chetory\n",
      "name of string : done\n",
      "['payam', 'salam', 'chetory']\n"
     ]
    }
   ],
   "source": [
    "list_ = []\n",
    "not_done = True\n",
    "while not_done:\n",
    "    inp = input('name of string : ')\n",
    "    if inp.lower() != 'done': # Put any string in stead of 'done' by which you intend to not take any more input\n",
    "        list_.append(inp)\n",
    "    else:\n",
    "        break\n",
    "print(list_)"
   ]
  },
  {
   "cell_type": "markdown",
   "metadata": {},
   "source": [
    "FINALLLLLLLLLLLL"
   ]
  },
  {
   "cell_type": "code",
   "execution_count": 2,
   "metadata": {},
   "outputs": [
    {
     "name": "stdout",
     "output_type": "stream",
     "text": [
      "name of string : Afghanistan\n",
      "name of string : Albania\n",
      "name of string : done\n",
      "0.8871866295264624\n",
      "0.8526315789473684\n",
      "the mean is= 0.8699091042369154\n"
     ]
    }
   ],
   "source": [
    "import os\n",
    "import numpy as np\n",
    "import pylab as plt\n",
    "import pandas as pd\n",
    "\n",
    "df = pd.read_csv('su5m.csv')\n",
    "df['Result'] = df['f2017']/df['m2017']\n",
    "df2=df.set_index('country')\n",
    "list_ = []\n",
    "not_done = True\n",
    "while not_done:\n",
    "    inp = input('name of string : ')\n",
    "    if inp.lower() != 'done': # Put any string in stead of 'done' by which you intend to not take any more input\n",
    "        list_.append(inp)\n",
    "    else:\n",
    "        break\n",
    "list_ave=[]\n",
    "for i in list_:\n",
    "     print(df2['Result'].loc[i])\n",
    "     list_ave.append(df2['Result'].loc[i])\n",
    "\n",
    "a = np.array(list_ave)\n",
    "print('the mean is=' ,a.mean())"
   ]
  },
  {
   "cell_type": "code",
   "execution_count": null,
   "metadata": {},
   "outputs": [],
   "source": [
    "import os\n",
    "import numpy as np\n",
    "import pylab as plt\n",
    "import pandas as pd\n",
    "import sys\n",
    "\n",
    "df = pd.read_csv('su5m.csv')\n",
    "df['Result'] = df['f2017']/df['m2017']\n",
    "df2=df.set_index('country')\n",
    "list_ = sys.argv[1]\n",
    "\n",
    "list_ave=[]\n",
    "for i in list_:\n",
    "     print(df2['Result'].loc[i])\n",
    "     list_ave.append(df2['Result'].loc[i])\n",
    "\n",
    "a = np.array(list_ave)\n",
    "print('the mean is=' ,a.mean())"
   ]
  }
 ],
 "metadata": {
  "kernelspec": {
   "display_name": "Python 3",
   "language": "python",
   "name": "python3"
  },
  "language_info": {
   "codemirror_mode": {
    "name": "ipython",
    "version": 3
   },
   "file_extension": ".py",
   "mimetype": "text/x-python",
   "name": "python",
   "nbconvert_exporter": "python",
   "pygments_lexer": "ipython3",
   "version": "3.6.8"
  }
 },
 "nbformat": 4,
 "nbformat_minor": 2
}
