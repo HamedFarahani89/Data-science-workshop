{
 "cells": [
  {
   "cell_type": "markdown",
   "metadata": {},
   "source": [
    "1.  Bob and Alice are playing a game. There are three doors. \n",
    "Two of them open to a sheep and one of the doors leads to a brand new car!\n",
    "Here is the rule, once Alice/Bob picks a door, one of the unpicked doors reveals a sheep. \n",
    "Then, Alice/Bob have the option of either staying with the selected door or switching to the remaining unopened door. \n",
    "Bob always stays (of course he's a man!) and Alice always switches!\n",
    "Who has more chance to win? \n",
    "\n",
    "input:\n",
    "    \n",
    "output:\n",
    "Bob's chance (float)\n",
    "Alice's chance (float)"
   ]
  },
  {
   "cell_type": "code",
   "execution_count": 29,
   "metadata": {},
   "outputs": [
    {
     "name": "stdout",
     "output_type": "stream",
     "text": [
      "Alice's chance probability: 0.66716\n",
      "Bob's chance probability: 0.33206\n"
     ]
    }
   ],
   "source": [
    "import numpy as np\n",
    "BobR=[]\n",
    "ExpNo=100000\n",
    "for i in range(ExpNo):\n",
    "    BobR.append(np.random.choice([0,0,1], size=1))\n",
    "\n",
    "\n",
    "AliceR=[]\n",
    "for i in range(ExpNo):\n",
    "    AliceR.append(np.random.choice([0,0,1], size=1))\n",
    "\n",
    "print(\"Alice's chance probability:\" ,(ExpNo-np.sum(AliceR))/ExpNo)\n",
    "print(\"Bob's chance probability:\" ,np.mean(BobR))"
   ]
  },
  {
   "cell_type": "code",
   "execution_count": null,
   "metadata": {},
   "outputs": [],
   "source": []
  }
 ],
 "metadata": {
  "kernelspec": {
   "display_name": "Python 3",
   "language": "python",
   "name": "python3"
  },
  "language_info": {
   "codemirror_mode": {
    "name": "ipython",
    "version": 3
   },
   "file_extension": ".py",
   "mimetype": "text/x-python",
   "name": "python",
   "nbconvert_exporter": "python",
   "pygments_lexer": "ipython3",
   "version": "3.6.8"
  }
 },
 "nbformat": 4,
 "nbformat_minor": 2
}
