{
 "cells": [
  {
   "cell_type": "markdown",
   "metadata": {},
   "source": [
    "# For questions 1 and 2, two datasets are provided. In these datasets seven variables are reported for all countries.\n",
    "\n",
    "1. Between 2005 and 2017, with variables had a significant difference (p-value<5%) among all countries.\n",
    "\n",
    "dataset: countries2.csv (load from current directory)\n",
    "\n",
    "input: None\n",
    "output: name of variable"
   ]
  },
  {
   "cell_type": "code",
   "execution_count": 3,
   "metadata": {},
   "outputs": [
    {
     "data": {
      "text/plain": [
       "['internetusage', 'migrants', 'education']"
      ]
     },
     "execution_count": 3,
     "metadata": {},
     "output_type": "execute_result"
    }
   ],
   "source": [
    "import zipfile\n",
    "import numpy as np\n",
    "import pylab as plt\n",
    "import pandas as pd\n",
    "\n",
    "\n",
    "df = pd.read_csv('countries_2.csv')\n",
    "df.drop(['country','Unnamed: 0'], axis=1, inplace=True)\n",
    "\n",
    "\n",
    "listC=list(df.columns.values)\n",
    "\n",
    "\n",
    "listC=list(df.columns.values)\n",
    "ZM=[]\n",
    "for i in listC:\n",
    "    df2005=df.loc[(df['Year'] == 2005)]\n",
    "    df2017=df.loc[(df['Year'] == 2017)]\n",
    "    if i != 'Year':\n",
    "        import2017 = df2017[i].tolist()\n",
    "        import2005 = df2005[i].tolist()\n",
    "        Mimport2005=np.mean(import2005)\n",
    "        Mimport2017=np.mean(import2017)\n",
    "        Simport2005=np.std(import2005)\n",
    "        Simport2017=np.std(import2017)\n",
    "        Nimport2005=len(import2005)\n",
    "        Nimport2017=len(import2017)\n",
    "        Z = np.abs((Mimport2005 - Mimport2017)/(np.sqrt(((Simport2005)**2)/(Nimport2005))+(((Simport2017)**2)/(Nimport2017))))\n",
    "        if Z > 0.05:\n",
    "            ZM.append(i)\n",
    "ZM"
   ]
  },
  {
   "cell_type": "code",
   "execution_count": null,
   "metadata": {},
   "outputs": [],
   "source": []
  }
 ],
 "metadata": {
  "kernelspec": {
   "display_name": "Python 3",
   "language": "python",
   "name": "python3"
  },
  "language_info": {
   "codemirror_mode": {
    "name": "ipython",
    "version": 3
   },
   "file_extension": ".py",
   "mimetype": "text/x-python",
   "name": "python",
   "nbconvert_exporter": "python",
   "pygments_lexer": "ipython3",
   "version": "3.6.7"
  }
 },
 "nbformat": 4,
 "nbformat_minor": 2
}
