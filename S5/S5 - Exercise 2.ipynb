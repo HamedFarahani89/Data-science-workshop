{
 "cells": [
  {
   "cell_type": "code",
   "execution_count": 85,
   "metadata": {},
   "outputs": [
    {
     "name": "stdout",
     "output_type": "stream",
     "text": [
      "internet: Luxembourg\n",
      "ZImports: United States of America\n",
      "Exports: Germany\n",
      "migrants: Qatar\n",
      "GDP: United States of America\n",
      "PPP: Luxembourg\n",
      "education: Lesotho\n"
     ]
    }
   ],
   "source": [
    "import zipfile\n",
    "import numpy as np\n",
    "import pylab as plt\n",
    "import pandas as pd\n",
    "df = pd.read_csv('countries_2.csv')\n",
    "df.drop(['Unnamed: 0'], axis=1, inplace=True)\n",
    "\n",
    "\n",
    "TotalMean=df.mean().tolist()\n",
    "TotalStd = df.std().tolist()\n",
    "\n",
    "Countries = np.unique(df['country'].tolist())\n",
    "meanC=[]\n",
    "for i in Countries:\n",
    "    meanC.append(df.loc[df['country']==i].mean().tolist())\n",
    "\n",
    "\n",
    "Z=[]\n",
    "for i in range(len(meanC)):\n",
    "    for j in range(1,len(meanC[i])):\n",
    "        Z.append((meanC[i][j]-TotalMean[j])/(TotalStd[j]*np.sqrt(319)))\n",
    "\n",
    "\n",
    "\n",
    "\n",
    "Zinternet=[]\n",
    "ZImports=[]\n",
    "ZExports=[]\n",
    "Zmigrants=[]\n",
    "ZGDP=[]\n",
    "ZPPP=[]\n",
    "Zeducation=[]\n",
    "for i in range(146):\n",
    "    Zinternet.append(Z[i*7])\n",
    "for i in range(146):\n",
    "    ZImports.append(Z[i*7+1])\n",
    "for i in range(146):\n",
    "    ZExports.append(Z[i*7+2])\n",
    "for i in range(146):\n",
    "    Zmigrants.append(Z[i*7+3])\n",
    "for i in range(146):\n",
    "    ZGDP.append(Z[i*7+4])\n",
    "for i in range(146):\n",
    "    ZPPP.append(Z[i*7+5])\n",
    "for i in range(146):\n",
    "    Zeducation.append(Z[i*7+6])\n",
    "\n",
    "\n",
    "print('internet:',Countries[Zinternet.index(max(Zinternet))]);\n",
    "print('ZImports:',Countries[ZImports.index(max(ZImports))]);\n",
    "print('Exports:',Countries[ZExports.index(max(ZExports))]);\n",
    "print('migrants:',Countries[Zmigrants.index(max(Zmigrants))]);\n",
    "print('GDP:',Countries[ZGDP.index(max(ZGDP))]);\n",
    "print('PPP:',Countries[ZPPP.index(max(ZPPP))]) ;\n",
    "print('education:',Countries[Zeducation.index(max(Zeducation))])"
   ]
  },
  {
   "cell_type": "code",
   "execution_count": null,
   "metadata": {},
   "outputs": [],
   "source": []
  }
 ],
 "metadata": {
  "kernelspec": {
   "display_name": "Python 3",
   "language": "python",
   "name": "python3"
  },
  "language_info": {
   "codemirror_mode": {
    "name": "ipython",
    "version": 3
   },
   "file_extension": ".py",
   "mimetype": "text/x-python",
   "name": "python",
   "nbconvert_exporter": "python",
   "pygments_lexer": "ipython3",
   "version": "3.6.7"
  }
 },
 "nbformat": 4,
 "nbformat_minor": 2
}
