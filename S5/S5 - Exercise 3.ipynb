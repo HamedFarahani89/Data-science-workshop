{
 "cells": [
  {
   "cell_type": "code",
   "execution_count": 104,
   "metadata": {},
   "outputs": [
    {
     "name": "stdout",
     "output_type": "stream",
     "text": [
      "In marital status: Age\n",
      "In Student status: Cards\n",
      "In Gender status: Education\n"
     ]
    }
   ],
   "source": [
    "import zipfile\n",
    "import numpy as np\n",
    "import pylab as plt\n",
    "import pandas as pd\n",
    "df = pd.read_csv('Credit.csv')\n",
    "df.drop(['Unnamed: 0' and 'Ethnicity'], axis=1, inplace=True)\n",
    "\n",
    "\n",
    "X = ['Income' , 'Limit' , 'Rating','Cards' ,  'Age'    , 'Education'   , 'Balance']\n",
    "df1 = df[df['Married'] == 'Yes']\n",
    "df2 = df[df['Married'] == 'No']\n",
    "TotalMean1 = df1.mean().tolist()\n",
    "TotalMean2 = df2.mean().tolist()\n",
    "TotalStd1 = df1.std().tolist()\n",
    "TotalStd2 = df2.std().tolist()\n",
    "n1 = len(df1)\n",
    "n2 = len(df2)\n",
    "ZMarried = []\n",
    "for i in range(6):\n",
    "    ZMarried.append(np.abs((TotalMean2[i]-TotalMean1[i])/(np.sqrt(((TotalStd2[i])**2/n2)+((TotalStd1[i])**2/n1)))))\n",
    "\n",
    "print('In marital status:' , X[ZMarried.index(min(ZMarried))])\n",
    "#Income  Limit         Rating         Cards            Age             Education        Balance        \n",
    "\n",
    "X = ['Income' , 'Limit' , 'Rating','Cards' ,  'Age'    , 'Education'   , 'Balance']\n",
    "df1 = df[df['Student'] == 'Yes']\n",
    "df2 = df[df['Student'] == 'No']\n",
    "STotalMean1 = df1.mean().tolist()\n",
    "STotalMean2 = df2.mean().tolist()\n",
    "STotalStd1 = df1.std().tolist()\n",
    "STotalStd2 = df2.std().tolist()\n",
    "Sn1 = len(df1)\n",
    "Sn2 = len(df2)\n",
    "ZStudent = []\n",
    "for i in range(6):\n",
    "    ZStudent.append(np.abs((STotalMean2[i]-STotalMean1[i])/(np.sqrt(((STotalStd2[i])**2/Sn2)+((STotalStd1[i])**2/Sn1)))))\n",
    "\n",
    "print('In Student status:' , X[ZStudent.index(min(ZStudent))])\n",
    "#Income  Limit         Rating         Cards            Age             Education        Balance  \n",
    "\n",
    "Zmean = df.groupby(['Gender']).mean()\n",
    "Zstd =  df.groupby(['Gender']).std()\n",
    "malemean = Zmean.iloc[0].tolist()\n",
    "femalemean = Zmean.iloc[1].tolist()\n",
    "malestd = Zstd.iloc[0].tolist()\n",
    "femalestd = Zstd.iloc[1].tolist()\n",
    "ZGender = []\n",
    "for i in range(6):\n",
    "    ZGender.append(np.abs((malemean[i]-femalemean[i])/(np.sqrt(((malestd[i])**2/193)+((femalestd[i])**2/207)))))\n",
    "print('In Gender status:' , X[ZGender.index(min(ZGender))])"
   ]
  },
  {
   "cell_type": "code",
   "execution_count": null,
   "metadata": {},
   "outputs": [],
   "source": []
  }
 ],
 "metadata": {
  "kernelspec": {
   "display_name": "Python 3",
   "language": "python",
   "name": "python3"
  },
  "language_info": {
   "codemirror_mode": {
    "name": "ipython",
    "version": 3
   },
   "file_extension": ".py",
   "mimetype": "text/x-python",
   "name": "python",
   "nbconvert_exporter": "python",
   "pygments_lexer": "ipython3",
   "version": "3.6.7"
  }
 },
 "nbformat": 4,
 "nbformat_minor": 2
}
